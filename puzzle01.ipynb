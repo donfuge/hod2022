{
 "cells": [
  {
   "attachments": {},
   "cell_type": "markdown",
   "metadata": {},
   "source": [
    "# Puzzle 1"
   ]
  },
  {
   "cell_type": "code",
   "execution_count": 6,
   "metadata": {},
   "outputs": [],
   "source": [
    "import pandas as pd\n",
    "from utils import load_data"
   ]
  },
  {
   "cell_type": "code",
   "execution_count": 7,
   "metadata": {},
   "outputs": [],
   "source": [
    "customers, orders, orders_items, products = load_data()"
   ]
  },
  {
   "attachments": {},
   "cell_type": "markdown",
   "metadata": {},
   "source": [
    "Looking for a customer whose phone number is their last name spelled out."
   ]
  },
  {
   "cell_type": "code",
   "execution_count": 8,
   "metadata": {},
   "outputs": [
    {
     "name": "stdout",
     "output_type": "stream",
     "text": [
      "Sam Guttenberg: 488-836-2374\n"
     ]
    }
   ],
   "source": [
    "keyboard = {\"abc\": 2,\n",
    "        \"def\": 3,\n",
    "        \"ghi\": 4,\n",
    "        \"jkl\": 5,\n",
    "        \"mno\": 6,\n",
    "        \"pqrs\": 7,\n",
    "        \"tuv\": 8,\n",
    "        \"wxyz\": 9}\n",
    "\n",
    "def letter_to_number(letter):\n",
    "    \n",
    "    letter = letter.lower()\n",
    "    \n",
    "    for k, i in keyboard.items():\n",
    "        if letter in k:\n",
    "            return str(i)\n",
    "    return \"\"\n",
    "    \n",
    "def name_to_number(name):\n",
    "    \n",
    "    phone_number = \"\"\n",
    "    \n",
    "    for letter in name:\n",
    "        phone_number += letter_to_number(letter)\n",
    "        \n",
    "    return phone_number\n",
    "    \n",
    "for name, phone in zip(customers[\"name\"], customers[\"phone\"]):\n",
    "    last_name = name.split(' ')[-1]\n",
    "    \n",
    "    generated_number = name_to_number(last_name)\n",
    "    \n",
    "    if generated_number == phone.replace(\"-\", \"\"):\n",
    "        print(f\"{name}: {phone}\")\n"
   ]
  }
 ],
 "metadata": {
  "kernelspec": {
   "display_name": "base",
   "language": "python",
   "name": "python3"
  },
  "language_info": {
   "codemirror_mode": {
    "name": "ipython",
    "version": 3
   },
   "file_extension": ".py",
   "mimetype": "text/x-python",
   "name": "python",
   "nbconvert_exporter": "python",
   "pygments_lexer": "ipython3",
   "version": "3.8.8 (default, Apr 13 2021, 15:08:03) [MSC v.1916 64 bit (AMD64)]"
  },
  "orig_nbformat": 4,
  "vscode": {
   "interpreter": {
    "hash": "9e7e2ef8f71753d31277c159cc9a95ca4e8f6833dc54aee9a0513e818fe8ced9"
   }
  }
 },
 "nbformat": 4,
 "nbformat_minor": 2
}
