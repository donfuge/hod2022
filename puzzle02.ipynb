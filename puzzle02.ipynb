{
 "cells": [
  {
   "attachments": {},
   "cell_type": "markdown",
   "metadata": {},
   "source": [
    "# Puzzle 2"
   ]
  },
  {
   "cell_type": "code",
   "execution_count": 1,
   "metadata": {},
   "outputs": [],
   "source": [
    "import pandas as pd\n",
    "from utils import load_data"
   ]
  },
  {
   "cell_type": "code",
   "execution_count": 2,
   "metadata": {},
   "outputs": [],
   "source": [
    "customers, orders, orders_items, products = load_data()"
   ]
  },
  {
   "attachments": {},
   "cell_type": "markdown",
   "metadata": {},
   "source": [
    "## Processing the customer names\n",
    "Looking for people whose abbreviated name is JD."
   ]
  },
  {
   "cell_type": "code",
   "execution_count": 3,
   "metadata": {},
   "outputs": [
    {
     "data": {
      "text/html": [
       "<div>\n",
       "<style scoped>\n",
       "    .dataframe tbody tr th:only-of-type {\n",
       "        vertical-align: middle;\n",
       "    }\n",
       "\n",
       "    .dataframe tbody tr th {\n",
       "        vertical-align: top;\n",
       "    }\n",
       "\n",
       "    .dataframe thead th {\n",
       "        text-align: right;\n",
       "    }\n",
       "</style>\n",
       "<table border=\"1\" class=\"dataframe\">\n",
       "  <thead>\n",
       "    <tr style=\"text-align: right;\">\n",
       "      <th></th>\n",
       "      <th>customerid</th>\n",
       "      <th>name</th>\n",
       "      <th>address</th>\n",
       "      <th>citystatezip</th>\n",
       "      <th>birthdate</th>\n",
       "      <th>phone</th>\n",
       "    </tr>\n",
       "  </thead>\n",
       "  <tbody>\n",
       "    <tr>\n",
       "      <th>102</th>\n",
       "      <td>1103</td>\n",
       "      <td>Jaime Danielle Lin</td>\n",
       "      <td>1506 Selwyn Ave</td>\n",
       "      <td>Bronx, NY 10457</td>\n",
       "      <td>1987-06-20</td>\n",
       "      <td>516-270-1105</td>\n",
       "    </tr>\n",
       "    <tr>\n",
       "      <th>443</th>\n",
       "      <td>1444</td>\n",
       "      <td>Jennifer Davis</td>\n",
       "      <td>4663 Park Ave S</td>\n",
       "      <td>Brooklyn, NY 11232</td>\n",
       "      <td>1940-07-29</td>\n",
       "      <td>315-356-9127</td>\n",
       "    </tr>\n",
       "    <tr>\n",
       "      <th>513</th>\n",
       "      <td>1514</td>\n",
       "      <td>Joshua Downs</td>\n",
       "      <td>144 Park Rd N</td>\n",
       "      <td>McAllen, TX 78557</td>\n",
       "      <td>1992-05-22</td>\n",
       "      <td>682-474-3747</td>\n",
       "    </tr>\n",
       "    <tr>\n",
       "      <th>610</th>\n",
       "      <td>1611</td>\n",
       "      <td>Jacob Davis</td>\n",
       "      <td>478B E 91st St</td>\n",
       "      <td>Manhattan, NY 10128</td>\n",
       "      <td>1961-06-02</td>\n",
       "      <td>516-521-7244</td>\n",
       "    </tr>\n",
       "    <tr>\n",
       "      <th>741</th>\n",
       "      <td>1742</td>\n",
       "      <td>Jonathan Davis</td>\n",
       "      <td>862 Morris Park Ave</td>\n",
       "      <td>Bronx, NY 10462</td>\n",
       "      <td>1947-05-08</td>\n",
       "      <td>585-510-8718</td>\n",
       "    </tr>\n",
       "    <tr>\n",
       "      <th>...</th>\n",
       "      <td>...</td>\n",
       "      <td>...</td>\n",
       "      <td>...</td>\n",
       "      <td>...</td>\n",
       "      <td>...</td>\n",
       "      <td>...</td>\n",
       "    </tr>\n",
       "    <tr>\n",
       "      <th>10465</th>\n",
       "      <td>11466</td>\n",
       "      <td>Janet Davis</td>\n",
       "      <td>693A E New York Ave</td>\n",
       "      <td>Brooklyn, NY 11203</td>\n",
       "      <td>1998-05-20</td>\n",
       "      <td>838-661-9019</td>\n",
       "    </tr>\n",
       "    <tr>\n",
       "      <th>10522</th>\n",
       "      <td>11522</td>\n",
       "      <td>Jeffery Davis</td>\n",
       "      <td>139A E 29th St</td>\n",
       "      <td>Brooklyn, NY 11226</td>\n",
       "      <td>1964-12-19</td>\n",
       "      <td>914-463-3531</td>\n",
       "    </tr>\n",
       "    <tr>\n",
       "      <th>10791</th>\n",
       "      <td>11791</td>\n",
       "      <td>Jonathan Davies</td>\n",
       "      <td>7123 Inter-A 6th Ave</td>\n",
       "      <td>Brooklyn, NY 11209</td>\n",
       "      <td>1961-10-05</td>\n",
       "      <td>838-788-1575</td>\n",
       "    </tr>\n",
       "    <tr>\n",
       "      <th>10982</th>\n",
       "      <td>11982</td>\n",
       "      <td>Jodi Dawn Robles</td>\n",
       "      <td>1649A Nelson Ave</td>\n",
       "      <td>Bronx, NY 10453</td>\n",
       "      <td>1951-10-24</td>\n",
       "      <td>585-428-6585</td>\n",
       "    </tr>\n",
       "    <tr>\n",
       "      <th>11053</th>\n",
       "      <td>12053</td>\n",
       "      <td>Joshua Dickerson</td>\n",
       "      <td>901B E Tremont Ave</td>\n",
       "      <td>Bronx, NY 10460</td>\n",
       "      <td>1966-04-27</td>\n",
       "      <td>315-629-8623</td>\n",
       "    </tr>\n",
       "  </tbody>\n",
       "</table>\n",
       "<p>66 rows × 6 columns</p>\n",
       "</div>"
      ],
      "text/plain": [
       "       customerid                name               address  \\\n",
       "102          1103  Jaime Danielle Lin       1506 Selwyn Ave   \n",
       "443          1444      Jennifer Davis       4663 Park Ave S   \n",
       "513          1514        Joshua Downs         144 Park Rd N   \n",
       "610          1611         Jacob Davis        478B E 91st St   \n",
       "741          1742      Jonathan Davis   862 Morris Park Ave   \n",
       "...           ...                 ...                   ...   \n",
       "10465       11466         Janet Davis   693A E New York Ave   \n",
       "10522       11522       Jeffery Davis        139A E 29th St   \n",
       "10791       11791     Jonathan Davies  7123 Inter-A 6th Ave   \n",
       "10982       11982    Jodi Dawn Robles      1649A Nelson Ave   \n",
       "11053       12053    Joshua Dickerson    901B E Tremont Ave   \n",
       "\n",
       "              citystatezip  birthdate         phone  \n",
       "102        Bronx, NY 10457 1987-06-20  516-270-1105  \n",
       "443     Brooklyn, NY 11232 1940-07-29  315-356-9127  \n",
       "513      McAllen, TX 78557 1992-05-22  682-474-3747  \n",
       "610    Manhattan, NY 10128 1961-06-02  516-521-7244  \n",
       "741        Bronx, NY 10462 1947-05-08  585-510-8718  \n",
       "...                    ...        ...           ...  \n",
       "10465   Brooklyn, NY 11203 1998-05-20  838-661-9019  \n",
       "10522   Brooklyn, NY 11226 1964-12-19  914-463-3531  \n",
       "10791   Brooklyn, NY 11209 1961-10-05  838-788-1575  \n",
       "10982      Bronx, NY 10453 1951-10-24  585-428-6585  \n",
       "11053      Bronx, NY 10460 1966-04-27  315-629-8623  \n",
       "\n",
       "[66 rows x 6 columns]"
      ]
     },
     "execution_count": 3,
     "metadata": {},
     "output_type": "execute_result"
    }
   ],
   "source": [
    "def abbrev_filter(row):\n",
    "    name = row[\"name\"]\n",
    "    name_parts = name.split(' ')\n",
    "    \n",
    "    abbrev = name_parts[0][0] + name_parts[1][0]\n",
    "\n",
    "    if abbrev == \"JD\":\n",
    "        return True\n",
    "    else:\n",
    "        return False\n",
    "    \n",
    "fidx = customers.apply(abbrev_filter, axis=1)\n",
    "customers_filtered = customers[fidx]\n",
    "customers_filtered"
   ]
  },
  {
   "attachments": {},
   "cell_type": "markdown",
   "metadata": {},
   "source": [
    "## Filtering for coffee and bagel orders"
   ]
  },
  {
   "cell_type": "code",
   "execution_count": 4,
   "metadata": {},
   "outputs": [],
   "source": [
    "def coffee_filter(row):\n",
    "    if \"coffee\" in row[\"desc\"].lower():\n",
    "        return True\n",
    "    else:\n",
    "        return False\n",
    "\n",
    "def bagel_filter(row):\n",
    "    if \"bagel\" in row[\"desc\"].lower():\n",
    "        return True\n",
    "    else:\n",
    "        return False\n",
    "    \n",
    "coffee_skus = products[products.apply(coffee_filter, axis=1)]\n",
    "coffee_skus = set(coffee_skus[\"sku\"])\n",
    "\n",
    "bagel_skus = products[products.apply(bagel_filter, axis=1)]\n",
    "bagel_skus = set(bagel_skus[\"sku\"])"
   ]
  },
  {
   "cell_type": "code",
   "execution_count": 5,
   "metadata": {},
   "outputs": [
    {
     "name": "stdout",
     "output_type": "stream",
     "text": [
      "Match:\n",
      "Jeremy Davis: 212-771-8924, 2017-04-05 12:49:41\n"
     ]
    }
   ],
   "source": [
    "for name, phone, customerid in zip(customers_filtered[\"name\"], customers_filtered[\"phone\"], customers_filtered[\"customerid\"]):\n",
    "    orders_filtered = orders[(orders[\"customerid\"]==customerid) & (orders['ordered'] >= '2017-01-01') & (orders['ordered'] <= '2017-12-31')]\n",
    "    \n",
    "    for idx, order in orders_filtered.iterrows():\n",
    "        orderid = order[\"orderid\"]\n",
    "        item_skus = set(orders_items[orders_items[\"orderid\"]==orderid][\"sku\"])\n",
    "        \n",
    "        # both coffee and bagel is in the order\n",
    "        if len(coffee_skus.intersection(item_skus)) and len(bagel_skus.intersection(item_skus)):\n",
    "            print(\"Match:\")\n",
    "            print(f\"{name}: {phone}, {order['ordered']}\")"
   ]
  }
 ],
 "metadata": {
  "kernelspec": {
   "display_name": "base",
   "language": "python",
   "name": "python3"
  },
  "language_info": {
   "codemirror_mode": {
    "name": "ipython",
    "version": 3
   },
   "file_extension": ".py",
   "mimetype": "text/x-python",
   "name": "python",
   "nbconvert_exporter": "python",
   "pygments_lexer": "ipython3",
   "version": "3.8.8"
  },
  "orig_nbformat": 4,
  "vscode": {
   "interpreter": {
    "hash": "9e7e2ef8f71753d31277c159cc9a95ca4e8f6833dc54aee9a0513e818fe8ced9"
   }
  }
 },
 "nbformat": 4,
 "nbformat_minor": 2
}
