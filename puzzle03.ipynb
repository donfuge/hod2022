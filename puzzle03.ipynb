{
 "cells": [
  {
   "attachments": {},
   "cell_type": "markdown",
   "metadata": {},
   "source": [
    "# Puzzle 3"
   ]
  },
  {
   "cell_type": "code",
   "execution_count": 1,
   "metadata": {},
   "outputs": [],
   "source": [
    "import pandas as pd\n",
    "from utils import load_data"
   ]
  },
  {
   "cell_type": "code",
   "execution_count": 2,
   "metadata": {},
   "outputs": [],
   "source": [
    "customers, orders, orders_items, products = load_data()"
   ]
  },
  {
   "attachments": {},
   "cell_type": "markdown",
   "metadata": {},
   "source": [
    "## Processing the addresses\n",
    "- extracting the zip code\n"
   ]
  },
  {
   "cell_type": "code",
   "execution_count": 3,
   "metadata": {},
   "outputs": [
    {
     "data": {
      "text/html": [
       "<div>\n",
       "<style scoped>\n",
       "    .dataframe tbody tr th:only-of-type {\n",
       "        vertical-align: middle;\n",
       "    }\n",
       "\n",
       "    .dataframe tbody tr th {\n",
       "        vertical-align: top;\n",
       "    }\n",
       "\n",
       "    .dataframe thead th {\n",
       "        text-align: right;\n",
       "    }\n",
       "</style>\n",
       "<table border=\"1\" class=\"dataframe\">\n",
       "  <thead>\n",
       "    <tr style=\"text-align: right;\">\n",
       "      <th></th>\n",
       "      <th>customerid</th>\n",
       "      <th>name</th>\n",
       "      <th>address</th>\n",
       "      <th>citystatezip</th>\n",
       "      <th>birthdate</th>\n",
       "      <th>phone</th>\n",
       "      <th>zip</th>\n",
       "    </tr>\n",
       "  </thead>\n",
       "  <tbody>\n",
       "    <tr>\n",
       "      <th>0</th>\n",
       "      <td>1001</td>\n",
       "      <td>Jack Quinn</td>\n",
       "      <td>201 E Park St</td>\n",
       "      <td>Los Angeles, CA 91343</td>\n",
       "      <td>1960-05-14</td>\n",
       "      <td>805-287-8515</td>\n",
       "      <td>91343</td>\n",
       "    </tr>\n",
       "    <tr>\n",
       "      <th>1</th>\n",
       "      <td>1002</td>\n",
       "      <td>David Powell</td>\n",
       "      <td>224C Tysens Ln</td>\n",
       "      <td>Staten Island, NY 10306</td>\n",
       "      <td>1978-04-04</td>\n",
       "      <td>516-768-1652</td>\n",
       "      <td>10306</td>\n",
       "    </tr>\n",
       "    <tr>\n",
       "      <th>2</th>\n",
       "      <td>1003</td>\n",
       "      <td>Carrie Green</td>\n",
       "      <td>1608 W 53rd Way</td>\n",
       "      <td>Tampa, FL 33614</td>\n",
       "      <td>1969-01-21</td>\n",
       "      <td>727-209-0470</td>\n",
       "      <td>33614</td>\n",
       "    </tr>\n",
       "    <tr>\n",
       "      <th>3</th>\n",
       "      <td>1004</td>\n",
       "      <td>Steven Miller</td>\n",
       "      <td>178½ E 7th St</td>\n",
       "      <td>Manhattan, NY 10009</td>\n",
       "      <td>1953-08-17</td>\n",
       "      <td>607-941-9563</td>\n",
       "      <td>10009</td>\n",
       "    </tr>\n",
       "    <tr>\n",
       "      <th>4</th>\n",
       "      <td>1005</td>\n",
       "      <td>Christine Powers</td>\n",
       "      <td>270 W 242nd St</td>\n",
       "      <td>Bronx, NY 10463</td>\n",
       "      <td>1983-06-06</td>\n",
       "      <td>212-759-9043</td>\n",
       "      <td>10463</td>\n",
       "    </tr>\n",
       "    <tr>\n",
       "      <th>...</th>\n",
       "      <td>...</td>\n",
       "      <td>...</td>\n",
       "      <td>...</td>\n",
       "      <td>...</td>\n",
       "      <td>...</td>\n",
       "      <td>...</td>\n",
       "      <td>...</td>\n",
       "    </tr>\n",
       "    <tr>\n",
       "      <th>11075</th>\n",
       "      <td>12075</td>\n",
       "      <td>Catherine Wells</td>\n",
       "      <td>693 E 101st St</td>\n",
       "      <td>Brooklyn, NY 11236</td>\n",
       "      <td>1972-07-06</td>\n",
       "      <td>716-656-2836</td>\n",
       "      <td>11236</td>\n",
       "    </tr>\n",
       "    <tr>\n",
       "      <th>11076</th>\n",
       "      <td>12076</td>\n",
       "      <td>Kevin Cooper</td>\n",
       "      <td>360 Edgecombe Ave</td>\n",
       "      <td>Manhattan, NY 10031</td>\n",
       "      <td>1994-07-22</td>\n",
       "      <td>315-496-6981</td>\n",
       "      <td>10031</td>\n",
       "    </tr>\n",
       "    <tr>\n",
       "      <th>11077</th>\n",
       "      <td>12077</td>\n",
       "      <td>Darius Johnson</td>\n",
       "      <td>2247 Grand Ave</td>\n",
       "      <td>Bronx, NY 10453</td>\n",
       "      <td>1989-06-18</td>\n",
       "      <td>716-797-4450</td>\n",
       "      <td>10453</td>\n",
       "    </tr>\n",
       "    <tr>\n",
       "      <th>11078</th>\n",
       "      <td>12078</td>\n",
       "      <td>Ryan Jones</td>\n",
       "      <td>1538 Park Pl SW</td>\n",
       "      <td>Los Angeles, CA 90016</td>\n",
       "      <td>1949-03-12</td>\n",
       "      <td>415-584-2656</td>\n",
       "      <td>90016</td>\n",
       "    </tr>\n",
       "    <tr>\n",
       "      <th>11079</th>\n",
       "      <td>12079</td>\n",
       "      <td>Gregory Weiss</td>\n",
       "      <td>113 Mackenzie St</td>\n",
       "      <td>Brooklyn, NY 11235</td>\n",
       "      <td>1990-08-27</td>\n",
       "      <td>516-736-1869</td>\n",
       "      <td>11235</td>\n",
       "    </tr>\n",
       "  </tbody>\n",
       "</table>\n",
       "<p>11080 rows × 7 columns</p>\n",
       "</div>"
      ],
      "text/plain": [
       "       customerid              name            address  \\\n",
       "0            1001        Jack Quinn      201 E Park St   \n",
       "1            1002      David Powell     224C Tysens Ln   \n",
       "2            1003      Carrie Green    1608 W 53rd Way   \n",
       "3            1004     Steven Miller      178½ E 7th St   \n",
       "4            1005  Christine Powers     270 W 242nd St   \n",
       "...           ...               ...                ...   \n",
       "11075       12075   Catherine Wells     693 E 101st St   \n",
       "11076       12076      Kevin Cooper  360 Edgecombe Ave   \n",
       "11077       12077    Darius Johnson     2247 Grand Ave   \n",
       "11078       12078        Ryan Jones    1538 Park Pl SW   \n",
       "11079       12079     Gregory Weiss   113 Mackenzie St   \n",
       "\n",
       "                  citystatezip  birthdate         phone    zip  \n",
       "0        Los Angeles, CA 91343 1960-05-14  805-287-8515  91343  \n",
       "1      Staten Island, NY 10306 1978-04-04  516-768-1652  10306  \n",
       "2              Tampa, FL 33614 1969-01-21  727-209-0470  33614  \n",
       "3          Manhattan, NY 10009 1953-08-17  607-941-9563  10009  \n",
       "4              Bronx, NY 10463 1983-06-06  212-759-9043  10463  \n",
       "...                        ...        ...           ...    ...  \n",
       "11075       Brooklyn, NY 11236 1972-07-06  716-656-2836  11236  \n",
       "11076      Manhattan, NY 10031 1994-07-22  315-496-6981  10031  \n",
       "11077          Bronx, NY 10453 1989-06-18  716-797-4450  10453  \n",
       "11078    Los Angeles, CA 90016 1949-03-12  415-584-2656  90016  \n",
       "11079       Brooklyn, NY 11235 1990-08-27  516-736-1869  11235  \n",
       "\n",
       "[11080 rows x 7 columns]"
      ]
     },
     "execution_count": 3,
     "metadata": {},
     "output_type": "execute_result"
    }
   ],
   "source": [
    "customers['zip'] = customers.apply(lambda customer: int(customer.citystatezip.split(\" \")[-1]), axis=1)\n",
    "customers"
   ]
  },
  {
   "attachments": {},
   "cell_type": "markdown",
   "metadata": {},
   "source": [
    "Contractor's zip:"
   ]
  },
  {
   "cell_type": "code",
   "execution_count": 4,
   "metadata": {},
   "outputs": [
    {
     "data": {
      "text/plain": [
       "11420"
      ]
     },
     "execution_count": 4,
     "metadata": {},
     "output_type": "execute_result"
    }
   ],
   "source": [
    "jeremy = customers[customers[\"name\"] == \"Jeremy Davis\"]\n",
    "jeremy_zip = int(jeremy.zip)\n",
    "jeremy_zip"
   ]
  },
  {
   "attachments": {},
   "cell_type": "markdown",
   "metadata": {},
   "source": [
    "## Filtering the customers\n",
    "- born in the year of the Dog\n",
    "- born as an Aries (between xxxx-3-21 and xxxx-4-19)\n",
    "- zip code is the same as Jeremy's"
   ]
  },
  {
   "cell_type": "code",
   "execution_count": 5,
   "metadata": {},
   "outputs": [
    {
     "data": {
      "text/html": [
       "<div>\n",
       "<style scoped>\n",
       "    .dataframe tbody tr th:only-of-type {\n",
       "        vertical-align: middle;\n",
       "    }\n",
       "\n",
       "    .dataframe tbody tr th {\n",
       "        vertical-align: top;\n",
       "    }\n",
       "\n",
       "    .dataframe thead th {\n",
       "        text-align: right;\n",
       "    }\n",
       "</style>\n",
       "<table border=\"1\" class=\"dataframe\">\n",
       "  <thead>\n",
       "    <tr style=\"text-align: right;\">\n",
       "      <th></th>\n",
       "      <th>customerid</th>\n",
       "      <th>name</th>\n",
       "      <th>address</th>\n",
       "      <th>citystatezip</th>\n",
       "      <th>birthdate</th>\n",
       "      <th>phone</th>\n",
       "      <th>zip</th>\n",
       "    </tr>\n",
       "  </thead>\n",
       "  <tbody>\n",
       "    <tr>\n",
       "      <th>1273</th>\n",
       "      <td>2274</td>\n",
       "      <td>Brent Nguyen</td>\n",
       "      <td>109-19 110th St</td>\n",
       "      <td>South Ozone Park, NY 11420</td>\n",
       "      <td>1958-03-25</td>\n",
       "      <td>516-636-7397</td>\n",
       "      <td>11420</td>\n",
       "    </tr>\n",
       "  </tbody>\n",
       "</table>\n",
       "</div>"
      ],
      "text/plain": [
       "      customerid          name          address                citystatezip  \\\n",
       "1273        2274  Brent Nguyen  109-19 110th St  South Ozone Park, NY 11420   \n",
       "\n",
       "      birthdate         phone    zip  \n",
       "1273 1958-03-25  516-636-7397  11420  "
      ]
     },
     "execution_count": 5,
     "metadata": {},
     "output_type": "execute_result"
    }
   ],
   "source": [
    "def aries_filter(customer):\n",
    "    birthdate = customer[\"birthdate\"]\n",
    "    return birthdate in pd.date_range(start=str(birthdate.year)+'-03-21', end=str(birthdate.year)+'-04-19')\n",
    "\n",
    "dog_years = [1910 + 12*n for n in range(12)]\n",
    "\n",
    "customers = customers[customers[\"birthdate\"].dt.year.isin(dog_years)]\n",
    "customers = customers[customers.apply(aries_filter, axis=1)]\n",
    "customers = customers[customers[\"zip\"]==jeremy_zip]\n",
    "\n",
    "customers"
   ]
  }
 ],
 "metadata": {
  "kernelspec": {
   "display_name": "base",
   "language": "python",
   "name": "python3"
  },
  "language_info": {
   "codemirror_mode": {
    "name": "ipython",
    "version": 3
   },
   "file_extension": ".py",
   "mimetype": "text/x-python",
   "name": "python",
   "nbconvert_exporter": "python",
   "pygments_lexer": "ipython3",
   "version": "3.8.8"
  },
  "orig_nbformat": 4,
  "vscode": {
   "interpreter": {
    "hash": "9e7e2ef8f71753d31277c159cc9a95ca4e8f6833dc54aee9a0513e818fe8ced9"
   }
  }
 },
 "nbformat": 4,
 "nbformat_minor": 2
}
